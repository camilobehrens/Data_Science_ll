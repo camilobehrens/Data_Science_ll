{
 "cells": [
  {
   "cell_type": "markdown",
   "id": "9933348d",
   "metadata": {},
   "source": [
    "# 10. ML y Mejoras de Modelos"
   ]
  },
  {
   "cell_type": "markdown",
   "id": "96e73bd4",
   "metadata": {},
   "source": [
    "## 10.1 Introducción a CRISP-DM\n",
    "\n",
    "*CRISP-DM* (Cross-Industry Standard for Data Mining) es una metodología estándar y probada que se utiliza para guiar proyectos de meneria de datos. Este modelo ofrece una estructura clara y comprensible que permite a los equipos abordar problemas de análisis de datos en distintos contextos industriales.\n",
    "\n",
    "Como metodología, CRISP-DM incluye descripciones detalladas de las fases típicas de un proyecto de mineria de datos, las tareas necesarias en cada fase y la explicación de cómo se relacionan estas tareas entre sí. Su diseño modular permite adaptarse a proyectos de diferentes escalas y complejidades.\n",
    "\n",
    "En su forma más general CRISP-DM abarco todo el ciclo de vida de la minería de datos, ofreciendo una guía práctica desde la comprensión del negocio y los datos hasta la implementación de modelos y el despliegue de soluciones. Esto ayuda a que los equipos mantengan un enfoque consistente y estructurado, asegurando que los proyectos de minería de datos estén alineados con los objetivos comerciales y científicos.\n",
    "\n",
    "\n",
    "\n",
    "### Fases de CRISP-DM\n",
    "\n",
    "CRISP-DM se divide en seis fases interconectadas que representan un ciclo iterativo de trabajo. A continuación se describen las seis fases principales:\n",
    "\n",
    "\n",
    "1. **Comprensión del negocio**\n",
    "\n",
    "El objetivo de esta fase es entender los objetivos y requisitos del proyecto desde una perspectiva comercial. Se recomienda involucrar a equipos interdisciplinarios para definir claramente las expectativas del análisis de datos. Este paso asegura que los recursos y esfuerzos estén alineados con los objetivos estratégicos de la organización.\n",
    "\n",
    "Entre las tareas clave están: recopilar información sobre la situación actual del negocio y establecer los objetivos a corto, mediano y largo plazo.\n",
    "\n",
    "\n",
    "\n",
    "2. **Comprensión de los datos**\n",
    "\n",
    "En esta fase, el equipo se enfoca en conocer y explorar los datos disponibles. Esto implica obtener acceso a los datos y evaluarlos mediante análisis descriptivos y visuales. Se busca identificar problemas potenciales en los datos, como valores faltantes o inconsistencias. Las actividades incluyen la recopilación de datos, su descripción detallada, la exploración mediante gráficos y la verificación de su calidad.\n",
    "\n",
    "\n",
    "3. **Preparación de los datos**\n",
    "\n",
    "La preparación de los datos suele ser la fase más extensa, ocupando entre el 50% y 70% del tiempo total del proyecto. En esta etapa, se transforman los datos brutos en un formato adecuado para el modelado. Entre las tareas más comunes se encuentra la fusión de conjuntos de datos, la selección de muestras, la agregación de registros, la creación de nuevas variables y la eliminación o imputación de valores faltantes. Además, se preparan los conjuntos de entrenamiento y prueba.\n",
    "\n",
    "\n",
    "4. **Modelado**\n",
    "\n",
    "El modelado es la fase en la que se aplican técnicas analíticas avanzadas para resolver las preguntas del negocio. Los analístas suelen probar varios modelos diferentes, ajustando parámetros y volviendo a las fases previas para realizar las transformaciones necesarias. Dependiendo del problema, se suelen utilizar distintos algoritmos como regresiones, árboles de decisión o redes neuronales.\n",
    "\n",
    "\n",
    "5. **Evaluación**\n",
    "\n",
    "Una vez contruidos los modelos, es fundamental evaluarlos para asegurar que cumplen con los requisitos del negocio. En esta fase, los resultados del modelo se comparan con los objetivos comerciales, asegurando que el modelo sea útil y relevante. Esta etapa implica revisar los criterios de rendimiento establecidos al inicio del proyecto y validar los descubrimientos obtenidos.\n",
    "\n",
    "\n",
    "6. **Despliegue**\n",
    "\n",
    "El despliegue es la fase final, enn la que los resultados se implementan dentro del entorno operativo de la organización. Esto puede incluir desde la automatización de decisiones hasta la generación de informes y visualizaciones interactivas. Las tareas típicas incluyen la planificación del despliegue, la creación de documentación y la presentación de los resultados, frecuentemente a través de dashboards o informes finales.\n"
   ]
  }
 ],
 "metadata": {
  "language_info": {
   "name": "python"
  }
 },
 "nbformat": 4,
 "nbformat_minor": 5
}
