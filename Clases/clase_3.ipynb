{
 "cells": [
  {
   "cell_type": "markdown",
   "metadata": {},
   "source": [
    "### Clase 3\n",
    "## SQL Avanzado y Otros Datos\n",
    "\n",
    "# 3.1 Introducción\n",
    "En esta unidad se explorarán técnicas avanzadas de gentión de bases de datos untilizando SQL y cómo integrearlas con python para maximizar el análisis de datos en entornos de Machine Learning. Nos enfocaremos en dos áreas clase:\n",
    "\n",
    "**1. Gentión Avanzada de SQL:** aprender a manejar transacciones, realizar consultas complejas y optimizar la interacción con bases de datos relacionales. Esta sección aboradará sentencias avanzadas, como la gestión de transacciones (TCL), y comandos que permiten realizar filtrados y manipulaciones sofisticadas de datos, tales como JOIN, GROUP BY y HAVING.\n",
    "Estas técnicas permiten extraer y combinar datos de manera eficiente y son fundamentales para cualquier analista de datos que trabaje con volúmenes grandes y complejos de información.\n",
    "\n",
    "**2. Uso de Otros Formatos de Bases de Datos con Python:**  además de SQL, se explorará cómo trabajar con otros formatos de bases de datos, como JSON, utilizando librerias en Python como Pandas. Se aprenderá a acceder a APIs y a integrar datos desde múltiples fuentes, lo que es esencial para manejar datos no estructuraados y semi-estructurados que son comunes en la actualidad. Esta sección incluirá el uso de librerías como sqlalchemy, sqlite3 y métodos en Pandas como read_sql_query() y read_json() para conectar, leer y manipular datos de manera efectiva.\n",
    "\n",
    "\n",
    "Al finalizar esta unidad, se estará capacitado para realizar consultas complejas en SQL y gestionar datos desde diferentes formatos utilizando Python, fortaleciendo así tu capacidad para trabajar con datos diversos y optimizar procesos en proyectos de Machine Learning.\n"
   ]
  },
  {
   "cell_type": "markdown",
   "metadata": {},
   "source": [
    "# 3.2 SQL Avanzado\n",
    "\n",
    "## Explicaciones de sentencias avanzadas de SQL\n",
    "\n",
    "En esta sección se explorarán las sentencias avanzadas de SQL, las cuales permiten realizar consultas más complejas y específicas en bases de datos relacionales. Estas técnicas son fundamentales para cualquier analista de datos, ya que permiten filtrar, combinar y resumir información de manera eficiente. \n",
    "\n",
    "### 1. Cláusulas WHERE, AND, OR, NOT\n",
    "\n",
    "* **WHERE:** se utiliza para filtrar registros en una consulta. Permite especificar condiciones que los datos deben cumplir para ser seleccionados. Es la base para crear consultas más específicas y detalladas.\n",
    "\n",
    "**Ejemplo**\n",
    "\n",
    "sql\n",
    "SELECT * FROM Customers \n",
    "WHERE Contry = 'Mexico';\n",
    "\n",
    "* **AND, OR, NOT:** estas cláusulas se combinan con WHERE para crear condiciones más complejas:\n",
    "    * AND: devuelve registros si todas las condiciones especificadas son verdaderas.\n",
    "    * OR: devuelve registros si al menos una de las condiciones es verdadera.\n",
    "    * NOT: excluye registros que cumplan con una condición específica.\n",
    "\n",
    "**Ejemplo:**\n",
    "sql\n",
    "SELECT * FROMO Costumers\n",
    "WHERE Country = 'Germany' AND City = 'Berlin';\n",
    "\n",
    "\n",
    "### 2. Uso de JOINs(INNER, LEFT, RIGHT, FULL)\n",
    "Los JOINs son cláusulas que permiten combinar filas de dos o más tablas en función de una columna relecionada entre ellas. Existen varios tipos de JOINs que se utilizan según las necesidades de la consulta\n",
    "\n",
    "* **INER JOIN:** selecciona registros que tienen valores coincidentes en ambas tablas\n",
    "**Ejemplo:**\n",
    "SELECT Customers.CustomerName, Orders.OrderID \n",
    "FROM Costumers\n",
    "INNER JOIN Orders ON Customers.CustomersID = Orders.Customers;\n",
    "\n",
    "* **LEFT JOIN:** devuelve todos los registros de la tabla izquierda y los registros coincidentes en la tabla derecha.\n",
    "**Ejemplo:**\n",
    "SELECT Customers.CustomersName, Orders.OrderID\n",
    "FROM Customers \n",
    "LEFT JOIN Orders ON Customers.CustomersID = Orders.CustomersID\n",
    "\n",
    "* **RIGHT JOIN:** devuelve todos los valores de la tabla derecha y los registros coinsidentes de la tabla izquierda.\n",
    "\n",
    "* **FULL JOIN:** devuelve todos los registros cuando hay coincidencias en cualquiera de las tablas.\n",
    "\n",
    "\n",
    "### 3. Gestión De Transacciones (TCL)\n",
    "Las sentencias de Control de Transacciones permiten manejar transacciones en una base de datos, asegurando la integridad de los datos y permitendo deshacer cambios si algo sale mas.\n",
    "\n",
    "* **COMMIT:** guarda los cambios realizados durante una transacción.\n",
    "* **ROLLBACK:** revierte los cambios realizados en la transacción actual.\n",
    "* **SAVEPOINT:** define un punto dentro de una transacción al que se puede volver utilizando ROLLBACK\n",
    "\n",
    "**Ejemplo:**\n",
    "\n",
    "BEGIN;\n",
    "UPDATE Accounts SET Balance = Balance - 100 WHERE AccountID = 1;\n",
    "UPDATE Accounts SET Balance = Balance + 100 WHERE AccountID = 2;\n",
    "COMMIT;\n",
    "\n",
    "\n",
    "### 4. Agregaciones y Agrupaciones con GROUP BY y HAVING\n",
    "\n",
    "* **GROUP BY:** agrupa filas que tienen los mismos valores en las columnas especificadas y se utiliza con funciones agregadas como COUNT(), SUM(), AVG(), MIN(), MAX(). Es útil para resumir información y organizar datos de manera significativa.\n",
    "**Ejemplo:**\n",
    "\n",
    "SELECT Country, COUNT (CustomersID)\n",
    "FROM Customers \n",
    "GROUP BY Country;\n",
    "\n",
    "* **HAVING:** se utiliza junto con GROUP BY para filtrar los grupos de datos que cumplen con una condición especifica. A diferencia de WHERE, HAVING se aplica después de que los datos han sido agrupados.\n",
    "**Ejemplo:** \n",
    "\n",
    "SELECT Country, COUNT (CustomersID)\n",
    "FROM Customers GROUP BY Country\n",
    "HAVING COUNT(CCustomersID) > 5;\n",
    "\n",
    "\n",
    "Estas sentencias y cláusulas avanzadas son esenciales para manipular y consultar datos de manera efectiva en SQL, permitiendo una gestión de información compleja y detallada en proyectos de análisis de datos."
   ]
  },
  {
   "cell_type": "markdown",
   "metadata": {},
   "source": [
    "# 3.3 Acceso a Otros Formatos de Bases de Datos\n",
    "En esta sección se explora cómo acceder y manipular bases de datos no relacionales utilizando la biblioteca Pandas en Python. Además, se introducirán algunas librerías clave que facilitan la conexión y el manejo de datos no estructurados y semi-estructurados, como sqlalchemist, sqlite3 y JSON.\n",
    "\n",
    "### 1. Acceso a bases de datos no relacionales con Pandas.\n",
    "Pandas es una biblioteca poderosa para la manipulación y análisis de datos en Python. Aunque se usa comúnmente con bases de datos relacionales, también permite trabajar con bases de datos no relacionales como JSON y APIs web. Esto se logra mediante métodos que convierten datos no estructurados en DataFrames, facilitando su análisis y manipulación.\n",
    "\n",
    "* **Metodos read_json():** este método permite leer archivos JSON desde un archivo local, una URL o directamente desde una cadena de texto JSON. Los datos JSON son comunmente utilizados para transferir información entre servidores y clientes, especialmente a través de APIs.\n",
    "**Ejemplo:**\n"
   ]
  },
  {
   "cell_type": "code",
   "execution_count": null,
   "metadata": {},
   "outputs": [],
   "source": [
    "import pandas as pd\n",
    "df = pd.read_json('data.json')\n",
    "print(df)"
   ]
  },
  {
   "cell_type": "markdown",
   "metadata": {},
   "source": [
    "### 2. Introducción a Librerías\n",
    "Para conectar y trabajar con diferentes formatos de bases de datos, es esencial conocer y utilizar librerías especificas que permiten la integración con Pandas. A continuación, se presentan tres librerías de importancia:\n",
    "\n",
    "* **Sqlalchemy:** es una poderosa libreria de Pyton que permite interactuar con bases de datos SQL de manera flexible y eficiente. Sqlalchemy se usa comúnmente para conectarse a una variedad de motores de bases de datos, incluyendo MySQL, PostgreSQL, SQLite, entre otros. Se combina fácilmente con Pandas y para cargar datos a DataFrames utilizando sentencial SQL.\n",
    "\n",
    "**Ejemplo:**"
   ]
  },
  {
   "cell_type": "code",
   "execution_count": null,
   "metadata": {},
   "outputs": [],
   "source": [
    "from sqlalchemy import create_engine\n",
    "engine = create_engine('sqlite:///ruta/a/tu_base_de_datos.db', echo=False)\n",
    "df = pd.read_sql_table('SELECT * FROM nombre_de_la_tabla', con=engine)\n",
    "print(df.head)"
   ]
  },
  {
   "cell_type": "markdown",
   "metadata": {},
   "source": [
    "* **SQLite3:** es una biblioteca C integrada que proporciona una base de datos SQL ligera y de fácil acceso. Es una opción ideal para aplicaciones pequeñas y de uso local debido a su simplicidad y configuración mínima. En combinación con Pandas, permite extraer datos de una base de datos y transformarlos en un df.\n",
    "\n",
    "**Ejemplo:**"
   ]
  },
  {
   "cell_type": "code",
   "execution_count": null,
   "metadata": {},
   "outputs": [],
   "source": [
    "import sqlite3 as sql\n",
    "conn = sql.connect('ruta/a/tu_base_de_datos.db')\n",
    "df = pd.read_sql_query('SELECT * FROM nombre_de_la_tabla', conn)\n",
    "conn.close()\n",
    "print(df.head)"
   ]
  },
  {
   "cell_type": "markdown",
   "metadata": {},
   "source": [
    "* **JSON:** JavaScript Object Notation es un formato de datos semi-estructurados ampliamente utilizados para el intercambio de datos en aplicaciones web. Pandas facilita la lectura y conversión de datos JSON a DataFrame, permitiendo su análisis de manera estructurados.\n",
    "\n",
    "**Caracteristicas clave de JSON:**\n",
    "* los datos se organizan en pares clave-valor\n",
    "* permite anidar objetos dentro de otros objetos, lo cual facilita la organización de datos complejos.\n",
    "* Es ideal para la transferencia de datos entre cliente y el servidor en aplicaciones web.\n",
    "\n",
    "**Ejemplo de lectura de JSON con Pandas:"
   ]
  },
  {
   "cell_type": "code",
   "execution_count": null,
   "metadata": {},
   "outputs": [],
   "source": [
    "import pandas as pd\n",
    "json_data = '{\"name\": \"Brian\", \"city\": \"Seattle\"}'\n",
    "df = pd.read_json(json_data, orient='columns')\n",
    "print(df)"
   ]
  },
  {
   "cell_type": "markdown",
   "metadata": {},
   "source": [
    "# Uso de APIs y JSON con Pandas\n",
    "\n",
    "### Introducción a APIs y cómo se integran con Pandas\n",
    "Las APIs (Application Programming Interfaces) son interfaces que permiten la comunicación entre dos sistemas diferentes, facilitando el intercambio de datos y la integración de diversas funcionalidades en aplicaciones y sitios web. En el contexto de análisis de datos, las APIs son especialmente útiles para acceder a grandes volúmenes de datos desde fuentes externas, como servicios web, redes sociales, y plataformas de datos abiertos.\n",
    "\n",
    "Pandas, junto con otras librerías de Python como requests, permiten integrar y manipular datos obtenidos a través de APIs, transformándolos en DataFrames para su análisis. Esto facilita la conexión con servicios externos y la extracción de datos en formatos como JSON, que es comúnmente utilizado para la tranferencia de datos.\n",
    "\n",
    "\n",
    "### 1. Integración de APIs con Pandas\n",
    "La integración de APIs con Pandas se realiza típicamente en tres pasos:\n",
    "\n",
    "1. **Realizar una solicitud HTTP a la API:** se utiliza la librería requests para hacer peticiones GET, POST, etc., y obtener datos en formato JSON u otros formatos.\n",
    "\n",
    "2. **Convertir los datos JSON en un DataFrame:** una vez obtenidos los datos, Pandas puede leer el JSON y convertirlo en un DataFrame utilizando el método read_json() o pd.DataFrame() para una mayor manipulación.\n",
    "\n",
    "3. **Manipulación y análisis de los datos:** los datos pueden ser filtrados, transformados y analizados utilizando todas las funcionalidades que ofrece Pandas.\n",
    "\n",
    "\n",
    "### 2. Ejmplo de Lectura y Manipulación de Datos JSON desde una API\n",
    "A continuación, se presenta un ejemplo práctico de cómo leer y manipular datos JSON desde una API usando Pandas:\n",
    "\n",
    "**Paso 1: realizar una solicitud a la API**\n",
    "se usará la librería requests para obtener datos de una API pública. En este caso, vamos a utilizar un ejemplo con una API que devuelve datos en formato JSON.\n"
   ]
  },
  {
   "cell_type": "code",
   "execution_count": null,
   "metadata": {},
   "outputs": [],
   "source": [
    "import requests\n",
    "\n",
    "# Realiza una solicitud GET a la API\n",
    "url = '<https://api.example.com/data>'\n",
    "response = requests.get(url)\n",
    "\n",
    "# Verifica que la solicitud fue exitosa (código 200)\n",
    "if response.status_code == 200:\n",
    "    data = response.json()  # Convierte la respuesta en un formato JSON\n",
    "else:\n",
    "    print(\"Error al realizar la solicitud:\", response.status_code)"
   ]
  },
  {
   "cell_type": "markdown",
   "metadata": {},
   "source": [
    "**Paso 2: convertir los Datos JSON en un DataFrame**\n",
    "Ahora que tenemos los datos en formato JSON, podemos convertirlos en un DataFrame para su análisis."
   ]
  },
  {
   "cell_type": "code",
   "execution_count": null,
   "metadata": {},
   "outputs": [],
   "source": [
    "import pandas as pd\n",
    "\n",
    "# Convierte los datos JSON a un DataFrame\n",
    "df = pd.DataFrame(data)\n",
    "print(df.head())  # Muestra las primeras filas del DataFrame"
   ]
  },
  {
   "cell_type": "markdown",
   "metadata": {},
   "source": [
    "**Paso 3: Manipulación y análisis de los datos**\n",
    "Una vez que los datos están en un DataFrame, podemos realizar operaciones como filtrado, agrupaciones y visualizaciones."
   ]
  },
  {
   "cell_type": "code",
   "execution_count": null,
   "metadata": {},
   "outputs": [],
   "source": [
    "# Ejemplo de filtrado de datos: seleccionar filas donde una columna específica cumple una condición\n",
    "filtered_df = df[df['column_name'] > 10]\n",
    "\n",
    "# Ejemplo de agrupación: agrupar por una columna y calcular la media\n",
    "grouped_df = df.groupby('group_column').mean()\n",
    "\n",
    "# Muestra los resultados\n",
    "print(filtered_df.head())\n",
    "print(grouped_df.head())"
   ]
  }
 ],
 "metadata": {
  "kernelspec": {
   "display_name": "indices",
   "language": "python",
   "name": "indices"
  },
  "language_info": {
   "codemirror_mode": {
    "name": "ipython",
    "version": 3
   },
   "file_extension": ".py",
   "mimetype": "text/x-python",
   "name": "python",
   "nbconvert_exporter": "python",
   "pygments_lexer": "ipython3",
   "version": "3.11.4"
  }
 },
 "nbformat": 4,
 "nbformat_minor": 2
}
