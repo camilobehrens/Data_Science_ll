{
 "cells": [
  {
   "cell_type": "markdown",
   "metadata": {},
   "source": [
    "# Obtención de insights a partir de visualizaciones\n",
    "## Descripción\n",
    "\n",
    "Entrenarás y optimizarás diversos modelos de Machine Learning para resolver una problemática específica, detectada en la instancia de entrega anterior. El objetivo es que puedan utilizar modelos de Machine Learning para resolver el problema de una industria o negocio.\n",
    "\n",
    "## Objetivos generales\n",
    "\n",
    "Obtener datos de diversas fuentes como APIs o Bases de datos públicas para luego analizarlos mediante el lenguaje Python con el fin de contestar una pregunta de interés para una industria, negocio o proyecto personal. Se deberán utilizar datasets complejos implementando técnicas avanzadas para la limpieza y adquisición de datos\n",
    "\n",
    "## Objetivos específicos\n",
    "\n",
    "* Estructurar un problema en función de múltiples pero simples preguntas/hipótesis a responder\n",
    "\n",
    "* Importar datos crudos de APIs o bases de datos usando Python\n",
    "\n",
    "* Limpiar y transformar los datos para permitir un posterior análisis\n",
    "\n",
    "* Contar una historia mediante el análisis exploratorio de datos\n",
    "\n",
    "## Requisitos base\n",
    "\n",
    "* **Un notebook (Colab o Jupyter) que debe contener:**\n",
    "    * **Abstracto con motivación y audiencia:** Descripción de alto nivel de lo que motiva a analizar los datos elegidos y que audiencia se podrá beneficiar de este análisis\n",
    "\n",
    "    * **Preguntas/hipótesis que queremos responder:** Lista de preguntas que se busca responder mediante el análisis de datos. Bloques de código donde se importan los datos desde una API o base de datos pública y los guarda en un archivo local csv o json. El estudiante puede luego de descargar los datos, comentar este bloque de código\n",
    "\n",
    "    * **Análisis exploratorio de datos (EDA):** Análisis descriptivo de los datos mediante visualizaciones y herramientas estadísticas.\n",
    "\n",
    "\n",
    "**Una presentación (PDF; PowerPoint o Google Slides) que debe contener:**\n",
    "* Abstracto con motivación y audiencia \n",
    "* Descripción de alto nivel de lo que motiva a analizar los datos elegidos y que audiencia se podrá beneficiar de este análisis\n",
    "\n",
    "* Resumen de metadata: resumen de los datos a ser analizados es decir, número de filas/columnas, tipos de variables, etc\n",
    "\n",
    "* Preguntas hipótesis que queremos responder: Lista de preguntas que se busca responder mediante el análisis de datos\n",
    "\n",
    "* Visualizaciones ejecutivas que responden nuestras preguntas: utilización de gráficos que responden las preguntas de interés de nuestro proyecto.\n",
    "\n",
    "* Insights: resumen de hallazgos del proyecto. Aquí consolidamos las respuestas a las preguntas/hipótesis que fuimos contestando con las visualizaciones\n",
    "\n",
    "\n",
    "## Sugerencias\n",
    "\n",
    "Es conveniente retomar el dataset trabajado en la primera pre entrega y enriquecerlo (e.g joins, y creación de nuevas columnas) con información proveniente de APIs públicas siempre que se pueda con el fin de practicar las nuevas habilidades adquiridas. Se recomienda retomar la metodología de trabajo y reutilizar algoritmos ya entrenados, de ser necesario.\n",
    "\n",
    "## Requisitos extra\n",
    "\n",
    "* Subir el proyecto a Github\n",
    "\n",
    "## Dont’s\n",
    "\n",
    "* Utilizar jerga demasiado técnica en la presentación (recordar que la audiencia de la misma son roles ejecutivos)\n",
    "\n",
    "* Sobrecargar las diapositivas\n",
    "\n",
    "* Realizar una presentación con más de 12 slides de extensión"
   ]
  },
  {
   "cell_type": "markdown",
   "metadata": {},
   "source": [
    "# Entrega 1\n",
    "\n",
    "##  "
   ]
  }
 ],
 "metadata": {
  "kernelspec": {
   "display_name": "soundscape311",
   "language": "python",
   "name": "soundscape311"
  },
  "language_info": {
   "name": "python",
   "version": "3.11.9"
  }
 },
 "nbformat": 4,
 "nbformat_minor": 2
}
